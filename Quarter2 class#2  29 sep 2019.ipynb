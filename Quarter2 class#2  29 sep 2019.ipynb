{
 "cells": [
  {
   "cell_type": "code",
   "execution_count": 2,
   "metadata": {},
   "outputs": [],
   "source": [
    "var='All rights reserved. No part of this book may be reproduced, stored in a retrieval system, or transmitted in any form or by any means, without the prior written permission of the publisher, except in the case of brief quotations embedded in critical articles or reviews. Every effort has been made in the preparation of this book to ensure the accuracy of the information presented. However, the information contained in this book is sold without warranty, either express or implied. Neither the author, nor Packt Publishing, and its dealers and distributors will be held liable for any damages caused or alleged to be caused directly or indirectly by this book.' "
   ]
  },
  {
   "cell_type": "code",
   "execution_count": 3,
   "metadata": {},
   "outputs": [],
   "source": [
    "var1='hello'\n",
    "list1=list(var1)"
   ]
  },
  {
   "cell_type": "code",
   "execution_count": 4,
   "metadata": {},
   "outputs": [
    {
     "name": "stdout",
     "output_type": "stream",
     "text": [
      "['h', 'e', 'l', 'l', 'o']\n"
     ]
    }
   ],
   "source": [
    "print(list1)"
   ]
  },
  {
   "cell_type": "code",
   "execution_count": 5,
   "metadata": {},
   "outputs": [],
   "source": [
    "import numpy as np"
   ]
  },
  {
   "cell_type": "code",
   "execution_count": 19,
   "metadata": {},
   "outputs": [],
   "source": [
    "text='All rights reserved. No part of this book may be reproduced, stored in a retrieval system, or transmitted in any form or by any means, without the prior written permission of the publisher, except in the case of brief quotations embedded in critical articles or reviews. Every effort has been made in the preparation of this book to ensure the accuracy of the information presented. However, the information contained in this book is sold without warranty, either express or implied. Neither the author, nor Packt Publishing, and its dealers and distributors will be held liable for any damages caused or alleged to be caused directly or indirectly by this book. '\n",
    "var2=np.array([text])"
   ]
  },
  {
   "cell_type": "code",
   "execution_count": 21,
   "metadata": {},
   "outputs": [
    {
     "name": "stdout",
     "output_type": "stream",
     "text": [
      "All rights\n"
     ]
    }
   ],
   "source": [
    "print(text[:10])"
   ]
  },
  {
   "cell_type": "code",
   "execution_count": 22,
   "metadata": {},
   "outputs": [
    {
     "name": "stdout",
     "output_type": "stream",
     "text": [
      "['All rights reserved. No part of this book may be reproduced, stored in a retrieval system, or transmitted in any form or by any means, without the prior written permission of the publisher, except in the case of brief quotations embedded in critical articles or reviews. Every effort has been made in the preparation of this book to ensure the accuracy of the information presented. However, the information contained in this book is sold without warranty, either express or implied. Neither the author, nor Packt Publishing, and its dealers and distributors will be held liable for any damages caused or alleged to be caused directly or indirectly by this book. ']\n"
     ]
    }
   ],
   "source": [
    "print(var2)"
   ]
  },
  {
   "cell_type": "code",
   "execution_count": 26,
   "metadata": {},
   "outputs": [
    {
     "name": "stdout",
     "output_type": "stream",
     "text": [
      "['All', 'rights', 'reserved.', 'No', 'part', 'of', 'this', 'book', 'may', 'be', 'reproduced,', 'stored', 'in', 'a', 'retrieval', 'system,', 'or', 'transmitted', 'in', 'any', 'form', 'or', 'by', 'any', 'means,', 'without', 'the', 'prior', 'written', 'permission', 'of', 'the', 'publisher,', 'except', 'in', 'the', 'case', 'of', 'brief', 'quotations', 'embedded', 'in', 'critical', 'articles', 'or', 'reviews.', 'Every', 'effort', 'has', 'been', 'made', 'in', 'the', 'preparation', 'of', 'this', 'book', 'to', 'ensure', 'the', 'accuracy', 'of', 'the', 'information', 'presented.', 'However,', 'the', 'information', 'contained', 'in', 'this', 'book', 'is', 'sold', 'without', 'warranty,', 'either', 'express', 'or', 'implied.', 'Neither', 'the', 'author,', 'nor', 'Packt', 'Publishing,', 'and', 'its', 'dealers', 'and', 'distributors', 'will', 'be', 'held', 'liable', 'for', 'any', 'damages', 'caused', 'or', 'alleged', 'to', 'be', 'caused', 'directly', 'or', 'indirectly', 'by', 'this', 'book.']\n"
     ]
    }
   ],
   "source": [
    "var3=text.split()\n",
    "print(var3)"
   ]
  },
  {
   "cell_type": "code",
   "execution_count": 25,
   "metadata": {},
   "outputs": [
    {
     "name": "stdout",
     "output_type": "stream",
     "text": [
      "['All', 'rights', 'reserved.', 'No', 'part', 'of', 'this', 'book', 'may', 'be', 'reproduced,', 'stored', 'in', 'a', 'retrieval', 'system,', 'or', 'transmitted', 'in', 'any']\n"
     ]
    }
   ],
   "source": [
    "print(var3[:20])"
   ]
  },
  {
   "cell_type": "code",
   "execution_count": 27,
   "metadata": {},
   "outputs": [
    {
     "name": "stdout",
     "output_type": "stream",
     "text": [
      "['All' 'rights' 'reserved.' 'No' 'part' 'of' 'this' 'book' 'may' 'be'\n",
      " 'reproduced,' 'stored' 'in' 'a' 'retrieval' 'system,' 'or' 'transmitted'\n",
      " 'in' 'any' 'form' 'or' 'by' 'any' 'means,' 'without' 'the' 'prior'\n",
      " 'written' 'permission' 'of' 'the' 'publisher,' 'except' 'in' 'the' 'case'\n",
      " 'of' 'brief' 'quotations' 'embedded' 'in' 'critical' 'articles' 'or'\n",
      " 'reviews.' 'Every' 'effort' 'has' 'been' 'made' 'in' 'the' 'preparation'\n",
      " 'of' 'this' 'book' 'to' 'ensure' 'the' 'accuracy' 'of' 'the'\n",
      " 'information' 'presented.' 'However,' 'the' 'information' 'contained'\n",
      " 'in' 'this' 'book' 'is' 'sold' 'without' 'warranty,' 'either' 'express'\n",
      " 'or' 'implied.' 'Neither' 'the' 'author,' 'nor' 'Packt' 'Publishing,'\n",
      " 'and' 'its' 'dealers' 'and' 'distributors' 'will' 'be' 'held' 'liable'\n",
      " 'for' 'any' 'damages' 'caused' 'or' 'alleged' 'to' 'be' 'caused'\n",
      " 'directly' 'or' 'indirectly' 'by' 'this' 'book.']\n"
     ]
    }
   ],
   "source": [
    "var3=np.array(text.split())\n",
    "print(var3)"
   ]
  },
  {
   "cell_type": "code",
   "execution_count": 28,
   "metadata": {},
   "outputs": [
    {
     "name": "stdout",
     "output_type": "stream",
     "text": [
      "110\n"
     ]
    }
   ],
   "source": [
    "print(len(var3))"
   ]
  },
  {
   "cell_type": "code",
   "execution_count": 29,
   "metadata": {},
   "outputs": [],
   "source": [
    "#variable = store data\n",
    "#function = returns input run by using 'np.'\n",
    "#method= 'object.' \n",
    "#attribute = attach with method write without backets"
   ]
  },
  {
   "cell_type": "code",
   "execution_count": 30,
   "metadata": {},
   "outputs": [
    {
     "name": "stdout",
     "output_type": "stream",
     "text": [
      "(110,) <U12 1\n"
     ]
    }
   ],
   "source": [
    "print(var3.shape,var3.dtype,var3.ndim)"
   ]
  },
  {
   "cell_type": "code",
   "execution_count": 32,
   "metadata": {},
   "outputs": [
    {
     "name": "stdout",
     "output_type": "stream",
     "text": [
      "[[1 2 3 4]\n",
      " [5 6 7 8]]\n"
     ]
    }
   ],
   "source": [
    "d3=np.array([[1,2,3,4],[5,6,7,8]])\n",
    "print(d3)"
   ]
  },
  {
   "cell_type": "code",
   "execution_count": 33,
   "metadata": {},
   "outputs": [
    {
     "name": "stdout",
     "output_type": "stream",
     "text": [
      "2\n",
      "8\n",
      "(2, 4)\n",
      "2\n"
     ]
    }
   ],
   "source": [
    "print(len(d3))\n",
    "print(d3.size)\n",
    "print(d3.shape)\n",
    "print(d3.ndim)"
   ]
  },
  {
   "cell_type": "code",
   "execution_count": 36,
   "metadata": {},
   "outputs": [],
   "source": [
    "d4=np.array([[[1,1],[2,2],[3,3]],[[4,4],[5,5],[6,6]],[[7,7],[8,8],[9,9]]])"
   ]
  },
  {
   "cell_type": "code",
   "execution_count": 37,
   "metadata": {},
   "outputs": [
    {
     "name": "stdout",
     "output_type": "stream",
     "text": [
      "[[[1 1]\n",
      "  [2 2]\n",
      "  [3 3]]\n",
      "\n",
      " [[4 4]\n",
      "  [5 5]\n",
      "  [6 6]]\n",
      "\n",
      " [[7 7]\n",
      "  [8 8]\n",
      "  [9 9]]]\n"
     ]
    }
   ],
   "source": [
    "print(d4)"
   ]
  },
  {
   "cell_type": "code",
   "execution_count": 38,
   "metadata": {},
   "outputs": [
    {
     "name": "stdout",
     "output_type": "stream",
     "text": [
      "(3, 3, 2)\n"
     ]
    }
   ],
   "source": [
    "print(d4.shape)"
   ]
  },
  {
   "cell_type": "markdown",
   "metadata": {},
   "source": [
    "# vectorization"
   ]
  },
  {
   "cell_type": "code",
   "execution_count": 43,
   "metadata": {},
   "outputs": [],
   "source": [
    "arr=np.array([11,22,33,44,55,65,66,77])"
   ]
  },
  {
   "cell_type": "code",
   "execution_count": 44,
   "metadata": {},
   "outputs": [
    {
     "name": "stdout",
     "output_type": "stream",
     "text": [
      "[ 66 132 198 264 330 390 396 462]\n"
     ]
    }
   ],
   "source": [
    "print(arr*6)"
   ]
  },
  {
   "cell_type": "code",
   "execution_count": 45,
   "metadata": {},
   "outputs": [
    {
     "name": "stdout",
     "output_type": "stream",
     "text": [
      "[ 66 132 198]\n"
     ]
    }
   ],
   "source": [
    "print(arr[:3]*6) #in list we can not do that"
   ]
  },
  {
   "cell_type": "code",
   "execution_count": 46,
   "metadata": {},
   "outputs": [],
   "source": [
    "#equal array operations\n",
    "a=np.array([[1,2,3],[4,5,6]])\n",
    "b=np.array([[1,2,3],[4,5,6]])\n",
    "c=a+b"
   ]
  },
  {
   "cell_type": "code",
   "execution_count": 47,
   "metadata": {},
   "outputs": [
    {
     "name": "stdout",
     "output_type": "stream",
     "text": [
      "[[ 2  4  6]\n",
      " [ 8 10 12]]\n"
     ]
    }
   ],
   "source": [
    "print(c)"
   ]
  },
  {
   "cell_type": "code",
   "execution_count": 48,
   "metadata": {},
   "outputs": [],
   "source": [
    "d=np.array([1,2,3])"
   ]
  },
  {
   "cell_type": "code",
   "execution_count": 49,
   "metadata": {},
   "outputs": [
    {
     "name": "stdout",
     "output_type": "stream",
     "text": [
      "d array [1 2 3]\n"
     ]
    }
   ],
   "source": [
    "#broadcasting(row size should be same)\n",
    "print('d array',d)"
   ]
  },
  {
   "cell_type": "code",
   "execution_count": 50,
   "metadata": {},
   "outputs": [
    {
     "name": "stdout",
     "output_type": "stream",
     "text": [
      "(2, 3) (3,)\n"
     ]
    }
   ],
   "source": [
    "print(c.shape,d.shape)"
   ]
  },
  {
   "cell_type": "code",
   "execution_count": 51,
   "metadata": {},
   "outputs": [
    {
     "name": "stdout",
     "output_type": "stream",
     "text": [
      "[[ 3  6  9]\n",
      " [ 9 12 15]]\n"
     ]
    }
   ],
   "source": [
    "print(c+d)"
   ]
  },
  {
   "cell_type": "code",
   "execution_count": 79,
   "metadata": {},
   "outputs": [
    {
     "ename": "SyntaxError",
     "evalue": "unexpected EOF while parsing (<ipython-input-79-26b15383403c>, line 27)",
     "output_type": "error",
     "traceback": [
      "\u001b[1;36m  File \u001b[1;32m\"<ipython-input-79-26b15383403c>\"\u001b[1;36m, line \u001b[1;32m27\u001b[0m\n\u001b[1;33m    \u001b[0m\n\u001b[1;37m    ^\u001b[0m\n\u001b[1;31mSyntaxError\u001b[0m\u001b[1;31m:\u001b[0m unexpected EOF while parsing\n"
     ]
    }
   ],
   "source": [
    "import scrapy\n",
    "\n",
    "   #name of spider\n",
    "name = 'shopclues'\n",
    "\n",
    "   #list of allowed domains\n",
    "allowed_domains = ['www.shopclues.com/mobiles-featured-store-4g-smartphone.html']\n",
    "   #starting url\n",
    "start_urls = ['http://www.shopclues.com/mobiles-featured-store-4g-smartphone.html/']\n",
    "   #location of csv file\n",
    "custom_settings = {\n",
    "       'FEED_URI' : 'tmp/shopclues.csv'\n",
    "   }\n",
    "\n",
    "\n",
    "       #Extract product information\n",
    "titles = response.css('img::attr(title)').extract()\n",
    "images = response.css('img::attr(data-img)').extract()\n",
    "prices = response.css('.p_price::text').extract()\n",
    "discounts = response.css('.prd_discount::text').extract()\n",
    "\n",
    "\n",
    "for item in zip(titles,prices,images,discounts):\n",
    "    scraped_info ={'title' : item[0],'price' : item[1],'image_urls' : [item[2]], #Set's the url for scrapy to download images'discount' : item[3]}\n",
    "           \n",
    "\n",
    "           "
   ]
  },
  {
   "cell_type": "code",
   "execution_count": 53,
   "metadata": {},
   "outputs": [],
   "source": []
  },
  {
   "cell_type": "code",
   "execution_count": 61,
   "metadata": {},
   "outputs": [],
   "source": []
  },
  {
   "cell_type": "code",
   "execution_count": null,
   "metadata": {},
   "outputs": [],
   "source": []
  },
  {
   "cell_type": "code",
   "execution_count": null,
   "metadata": {},
   "outputs": [],
   "source": []
  }
 ],
 "metadata": {
  "kernelspec": {
   "display_name": "Python 3",
   "language": "python",
   "name": "python3"
  },
  "language_info": {
   "codemirror_mode": {
    "name": "ipython",
    "version": 3
   },
   "file_extension": ".py",
   "mimetype": "text/x-python",
   "name": "python",
   "nbconvert_exporter": "python",
   "pygments_lexer": "ipython3",
   "version": "3.7.3"
  }
 },
 "nbformat": 4,
 "nbformat_minor": 2
}
