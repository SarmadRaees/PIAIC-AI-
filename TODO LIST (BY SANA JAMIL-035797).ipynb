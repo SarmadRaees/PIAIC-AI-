{
 "cells": [
  {
   "cell_type": "markdown",
   "metadata": {},
   "source": [
    "# PIAIC ASSIGNMENT # 2 (TODO LIST)"
   ]
  },
  {
   "cell_type": "code",
   "execution_count": 7,
   "metadata": {},
   "outputs": [
    {
     "name": "stdout",
     "output_type": "stream",
     "text": [
      "For every task type yes or no\n",
      "Have you done this task NAMAZ ?\n",
      "yes or no yes\n",
      "Good!!\n",
      "Have you done this task BREAKFAST ?\n",
      "yes or no yes\n",
      "Good!!\n",
      "Have you done this task OFFICE ?\n",
      "yes or no yes\n",
      "Good!!\n",
      "Have you done this task LUNCH ?\n",
      "yes or no no\n",
      "Please do this work\n",
      "Have you done this task STUDY ?\n",
      "yes or no no\n",
      "Please do this work\n",
      "Press 1 to see for works done!\n",
      "1\n",
      "mam works you have done are ['NAMAZ', 'BREAKFAST', 'OFFICE']\n",
      "Press 2 to see works on pending\n",
      "2\n",
      "mam works on pending are ['LUNCH', 'STUDY']\n"
     ]
    }
   ],
   "source": [
    "works_todo=[\"NAMAZ\", \"BREAKFAST\", \"OFFICE\", \"LUNCH\", \"STUDY\"]\n",
    "works_completed=[]\n",
    "works_pending=[]\n",
    "todo_count=len(works_todo)\n",
    "print(\"For every task type yes or no\")\n",
    "if todo_count!=0:\n",
    "    print(f\"Have you done this task {works_todo[0]} ?\")\n",
    "    a=input(\"yes or no \").lower()\n",
    "    if(a==\"yes\"):\n",
    "        works_completed.append(works_todo[0])\n",
    "        print(\"Good!!\")\n",
    "    else:\n",
    "        print(\"Please do this work\")\n",
    "        works_pending.append(works_todo[0])\n",
    "        \n",
    "    print(f\"Have you done this task {works_todo[1]} ?\")\n",
    "    a=input(\"yes or no \").lower()\n",
    "    if(a==\"yes\"):\n",
    "        works_completed.append(works_todo[1])\n",
    "        print(\"Good!!\")\n",
    "    else:\n",
    "        print(\"Please do this work\")\n",
    "        works_pending.append(works_todo[1])\n",
    "        \n",
    "    print(f\"Have you done this task {works_todo[2]} ?\")\n",
    "    a=input(\"yes or no \").lower()\n",
    "    if(a==\"yes\"):\n",
    "        works_completed.append(works_todo[2])\n",
    "        print(\"Good!!\")\n",
    "    else:\n",
    "        print(\"Please do this work\")\n",
    "        works_pending.append(works_todo[2])\n",
    "        \n",
    "    print(f\"Have you done this task {works_todo[3]} ?\")\n",
    "    a=input(\"yes or no \").lower()\n",
    "    if(a==\"yes\"):\n",
    "        works_completed.append(works_todo[3])\n",
    "        print(\"Good!!\")\n",
    "    else:\n",
    "        print(\"Please do this work\")\n",
    "        works_pending.append(works_todo[3])\n",
    "        \n",
    "    print(f\"Have you done this task {works_todo[4]} ?\")\n",
    "    a=input(\"yes or no \").lower()\n",
    "    if(a==\"yes\"):\n",
    "        works_completed.append(works_todo[4])\n",
    "    else:\n",
    "        print(\"Please do this work\")\n",
    "        works_pending.append(works_todo[4])\n",
    "else:\n",
    "    print(\"List is empty\")\n",
    "    \n",
    "print(\"Press 1 to see for works done!\")\n",
    "check=int(input())\n",
    "if check==1:\n",
    "    print(f\"mam works you have done are {works_completed}\")\n",
    "print(\"Press 2 to see works on pending\")\n",
    "check=int(input())\n",
    "if check==2:\n",
    "    print(f\"mam works on pending are {works_pending}\")"
   ]
  },
  {
   "cell_type": "code",
   "execution_count": null,
   "metadata": {},
   "outputs": [],
   "source": []
  }
 ],
 "metadata": {
  "kernelspec": {
   "display_name": "Python 3",
   "language": "python",
   "name": "python3"
  },
  "language_info": {
   "codemirror_mode": {
    "name": "ipython",
    "version": 3
   },
   "file_extension": ".py",
   "mimetype": "text/x-python",
   "name": "python",
   "nbconvert_exporter": "python",
   "pygments_lexer": "ipython3",
   "version": "3.7.3"
  }
 },
 "nbformat": 4,
 "nbformat_minor": 2
}
