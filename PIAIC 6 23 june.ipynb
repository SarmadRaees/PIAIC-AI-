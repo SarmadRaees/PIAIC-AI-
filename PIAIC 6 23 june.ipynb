{
 "cells": [
  {
   "cell_type": "markdown",
   "metadata": {},
   "source": [
    "# Args and Key word args"
   ]
  },
  {
   "cell_type": "code",
   "execution_count": 1,
   "metadata": {},
   "outputs": [],
   "source": [
    "def pizza(size, *topping):\n",
    "    print(size)\n",
    "    print(topping)"
   ]
  },
  {
   "cell_type": "code",
   "execution_count": 2,
   "metadata": {},
   "outputs": [
    {
     "name": "stdout",
     "output_type": "stream",
     "text": [
      "12\n",
      "('black pepper',)\n"
     ]
    }
   ],
   "source": [
    "pizza(12,'black pepper')"
   ]
  },
  {
   "cell_type": "code",
   "execution_count": 3,
   "metadata": {},
   "outputs": [
    {
     "name": "stdout",
     "output_type": "stream",
     "text": [
      "12\n",
      "('black pepper', 'tika')\n"
     ]
    }
   ],
   "source": [
    "pizza(12,'black pepper','tika')"
   ]
  },
  {
   "cell_type": "code",
   "execution_count": 4,
   "metadata": {},
   "outputs": [],
   "source": [
    "def pizza(size, *topping):\n",
    "    print(f'your size of pizza is {size}')\n",
    "    for topping in topping:\n",
    "        print(f' you have chossen these toppings {topping}')"
   ]
  },
  {
   "cell_type": "code",
   "execution_count": 6,
   "metadata": {},
   "outputs": [
    {
     "name": "stdout",
     "output_type": "stream",
     "text": [
      "your size of pizza is 12\n",
      " you have chossen these toppings tikka\n",
      " you have chossen these toppings blackpepper\n",
      " you have chossen these toppings éxtra cheess\n"
     ]
    }
   ],
   "source": [
    "pizza(12,'tikka','blackpepper','éxtra cheess')"
   ]
  },
  {
   "cell_type": "code",
   "execution_count": 11,
   "metadata": {},
   "outputs": [],
   "source": [
    "def res(name,payment,*food):\n",
    "    if payment=='paid':\n",
    "        print(\"Go and eat\")\n",
    "    else:\n",
    "        print('pay the bill first')"
   ]
  },
  {
   "cell_type": "code",
   "execution_count": 12,
   "metadata": {},
   "outputs": [
    {
     "name": "stdout",
     "output_type": "stream",
     "text": [
      "Enter name abc\n",
      "paid or not paid  paid\n",
      "order items tikka\n",
      "Go and eat\n"
     ]
    }
   ],
   "source": [
    "res(input(\"Enter name \"),input(\"paid or not paid  \"),input('order items '))"
   ]
  },
  {
   "cell_type": "code",
   "execution_count": 17,
   "metadata": {},
   "outputs": [],
   "source": [
    "def buffet(name,payment,*food): # * treat as a tupple\n",
    "    print('wellcome',name)\n",
    "    if payment=='paid':\n",
    "        print(\"Go and eat your selected menu is \",food)\n",
    "    else:\n",
    "        print('pay the bill first')"
   ]
  },
  {
   "cell_type": "code",
   "execution_count": 18,
   "metadata": {},
   "outputs": [
    {
     "name": "stdout",
     "output_type": "stream",
     "text": [
      "wellcome asad\n",
      "Go and eat your selected menu is  ('tikka', 'bryani', 'kabab')\n"
     ]
    }
   ],
   "source": [
    "buffet('asad','paid','tikka','bryani','kabab')"
   ]
  },
  {
   "cell_type": "code",
   "execution_count": 19,
   "metadata": {},
   "outputs": [],
   "source": [
    "def profile(name,fname,**otherinfo):# ** key word arguments\n",
    "    print(name ,fname)\n",
    "    print(otherinfo)"
   ]
  },
  {
   "cell_type": "code",
   "execution_count": 21,
   "metadata": {},
   "outputs": [
    {
     "name": "stdout",
     "output_type": "stream",
     "text": [
      "abc def\n",
      "{'age': 38, 'no': 30012303, 'address': 'karachi'}\n"
     ]
    }
   ],
   "source": [
    "profile('abc','def',age=38,no=30012303,address='karachi')"
   ]
  },
  {
   "cell_type": "code",
   "execution_count": 22,
   "metadata": {},
   "outputs": [
    {
     "name": "stdout",
     "output_type": "stream",
     "text": [
      "abc def\n",
      "{'age': 38, 'no': 30012303, 'address': {'karachi', 'lahore'}}\n"
     ]
    }
   ],
   "source": [
    "profile('abc','def',age=38,no=30012303,address={'lahore','karachi'})"
   ]
  },
  {
   "cell_type": "markdown",
   "metadata": {},
   "source": [
    "# Global scope and Local Scope"
   ]
  },
  {
   "cell_type": "code",
   "execution_count": null,
   "metadata": {},
   "outputs": [],
   "source": []
  },
  {
   "cell_type": "code",
   "execution_count": null,
   "metadata": {},
   "outputs": [],
   "source": []
  },
  {
   "cell_type": "code",
   "execution_count": null,
   "metadata": {},
   "outputs": [],
   "source": []
  },
  {
   "cell_type": "code",
   "execution_count": 23,
   "metadata": {},
   "outputs": [],
   "source": [
    "def abc():             ####local\n",
    "    yourname='sarmad'\n",
    "    print(yourname)"
   ]
  },
  {
   "cell_type": "code",
   "execution_count": 24,
   "metadata": {},
   "outputs": [
    {
     "name": "stdout",
     "output_type": "stream",
     "text": [
      "sarmad\n"
     ]
    }
   ],
   "source": [
    "abc()"
   ]
  },
  {
   "cell_type": "code",
   "execution_count": 25,
   "metadata": {},
   "outputs": [
    {
     "ename": "NameError",
     "evalue": "name 'yourname' is not defined",
     "output_type": "error",
     "traceback": [
      "\u001b[1;31m---------------------------------------------------------------------------\u001b[0m",
      "\u001b[1;31mNameError\u001b[0m                                 Traceback (most recent call last)",
      "\u001b[1;32m<ipython-input-25-bead31e52114>\u001b[0m in \u001b[0;36m<module>\u001b[1;34m\u001b[0m\n\u001b[1;32m----> 1\u001b[1;33m \u001b[0myourname\u001b[0m\u001b[1;33m\u001b[0m\u001b[1;33m\u001b[0m\u001b[0m\n\u001b[0m",
      "\u001b[1;31mNameError\u001b[0m: name 'yourname' is not defined"
     ]
    }
   ],
   "source": [
    "yourname"
   ]
  },
  {
   "cell_type": "code",
   "execution_count": 26,
   "metadata": {},
   "outputs": [],
   "source": [
    "city ='karachi' \n",
    "def country():\n",
    "    print(city)"
   ]
  },
  {
   "cell_type": "code",
   "execution_count": 27,
   "metadata": {},
   "outputs": [
    {
     "name": "stdout",
     "output_type": "stream",
     "text": [
      "karachi\n"
     ]
    }
   ],
   "source": [
    "country()"
   ]
  },
  {
   "cell_type": "code",
   "execution_count": 28,
   "metadata": {},
   "outputs": [],
   "source": [
    "def xyz():\n",
    "    x='apple'\n",
    "    if x=='apple':\n",
    "        y='orange'\n",
    "        print(x)"
   ]
  },
  {
   "cell_type": "code",
   "execution_count": 29,
   "metadata": {},
   "outputs": [
    {
     "name": "stdout",
     "output_type": "stream",
     "text": [
      "apple\n"
     ]
    }
   ],
   "source": [
    "xyz()"
   ]
  },
  {
   "cell_type": "code",
   "execution_count": 31,
   "metadata": {},
   "outputs": [],
   "source": [
    "def xyz():\n",
    "    x='apple'\n",
    "    if x=='apple':\n",
    "        x='orange'\n",
    "        print(x)"
   ]
  },
  {
   "cell_type": "code",
   "execution_count": 32,
   "metadata": {},
   "outputs": [
    {
     "name": "stdout",
     "output_type": "stream",
     "text": [
      "orange\n"
     ]
    }
   ],
   "source": [
    "xyz()"
   ]
  },
  {
   "cell_type": "code",
   "execution_count": 36,
   "metadata": {},
   "outputs": [],
   "source": [
    "def fruits():\n",
    "    global fruit\n",
    "    fruit= 'banana'\n",
    "    print(fruit)"
   ]
  },
  {
   "cell_type": "code",
   "execution_count": 37,
   "metadata": {},
   "outputs": [
    {
     "name": "stdout",
     "output_type": "stream",
     "text": [
      "banana\n"
     ]
    }
   ],
   "source": [
    "fruits()"
   ]
  },
  {
   "cell_type": "code",
   "execution_count": 38,
   "metadata": {},
   "outputs": [
    {
     "name": "stdout",
     "output_type": "stream",
     "text": [
      "banana\n"
     ]
    }
   ],
   "source": [
    "print(fruit)"
   ]
  },
  {
   "cell_type": "markdown",
   "metadata": {},
   "source": [
    "# use of functions as a variable"
   ]
  },
  {
   "cell_type": "code",
   "execution_count": 3,
   "metadata": {},
   "outputs": [],
   "source": [
    "def add():\n",
    "    a=3+2\n",
    "    return a\n",
    "def sub():\n",
    "    b=29-23\n",
    "    return b"
   ]
  },
  {
   "cell_type": "code",
   "execution_count": 4,
   "metadata": {},
   "outputs": [
    {
     "name": "stdout",
     "output_type": "stream",
     "text": [
      "11\n"
     ]
    }
   ],
   "source": [
    "print(add()+sub())"
   ]
  },
  {
   "cell_type": "code",
   "execution_count": 63,
   "metadata": {},
   "outputs": [],
   "source": [
    "def commisioncalculator(sales_value):\n",
    "    if sales_value >= 10000 and sales_value<=49999:\n",
    "        percent=5\n",
    "    elif sales_value >= 50000 and sales_value<=999999:\n",
    "        percent=10\n",
    "    elif sales_value>100000:\n",
    "        percent=20\n",
    "    else:\n",
    "        percent=0\n",
    "    commission = sales_value/100*percent\n",
    "    return commission\n",
    "\n",
    "def grosscal(basic,sales_value):\n",
    "    grosspay = basic +commisioncalculator(sales_value)\n",
    "    return grosspay"
   ]
  },
  {
   "cell_type": "code",
   "execution_count": 64,
   "metadata": {},
   "outputs": [
    {
     "name": "stdout",
     "output_type": "stream",
     "text": [
      "your total salary is 30000.0\n"
     ]
    }
   ],
   "source": [
    "pay=grosscal(25000,50000)\n",
    "print(f'your total salary is {pay}')"
   ]
  },
  {
   "cell_type": "code",
   "execution_count": 6,
   "metadata": {},
   "outputs": [],
   "source": [
    "def commisioncalculator(sales_value):\n",
    "    if sales_value >= 100000:\n",
    "        percent=20\n",
    "    elif sales_value >= 50000:\n",
    "        percent=10\n",
    "    elif sales_value>= 10000:\n",
    "        percent=5\n",
    "    else:\n",
    "        percent=0\n",
    "    commission = sales_value/100*percent\n",
    "    return commission\n",
    "\n",
    "def grosscal(basic,sales_value):\n",
    "    grosspay = basic +commisioncalculator(sales_value)\n",
    "    return grosspay"
   ]
  },
  {
   "cell_type": "code",
   "execution_count": 7,
   "metadata": {},
   "outputs": [
    {
     "name": "stdout",
     "output_type": "stream",
     "text": [
      "your total salary is 30000.0\n"
     ]
    }
   ],
   "source": [
    "pay=grosscal(25000,50000)\n",
    "print(f'your total salary is {pay}')"
   ]
  },
  {
   "cell_type": "markdown",
   "metadata": {},
   "source": [
    "# while loop"
   ]
  },
  {
   "cell_type": "code",
   "execution_count": 65,
   "metadata": {},
   "outputs": [
    {
     "name": "stdout",
     "output_type": "stream",
     "text": [
      "0\n",
      "1\n",
      "2\n",
      "3\n",
      "4\n",
      "5\n",
      "6\n",
      "7\n",
      "8\n",
      "9\n"
     ]
    }
   ],
   "source": [
    "for a in range(10):\n",
    "    print(a)"
   ]
  },
  {
   "cell_type": "code",
   "execution_count": 4,
   "metadata": {},
   "outputs": [
    {
     "name": "stdout",
     "output_type": "stream",
     "text": [
      "1\n",
      "2\n",
      "3\n",
      "4\n",
      "5\n",
      "6\n",
      "7\n",
      "8\n",
      "9\n"
     ]
    }
   ],
   "source": [
    "a =1\n",
    "while a<10:\n",
    "    print(a)\n",
    "    a +=1"
   ]
  },
  {
   "cell_type": "code",
   "execution_count": 9,
   "metadata": {},
   "outputs": [
    {
     "name": "stdout",
     "output_type": "stream",
     "text": [
      "0\n",
      "your total salary is 5000.0\n"
     ]
    }
   ],
   "source": [
    "basic =int(input())\n",
    "flag = True\n",
    "while flag:\n",
    "    pay=grosscal(basic,50000)\n",
    "    print(f'your total salary is {pay}')\n",
    "    if basic==0:\n",
    "        flag=False"
   ]
  },
  {
   "cell_type": "code",
   "execution_count": null,
   "metadata": {},
   "outputs": [],
   "source": [
    "def greating():\n",
    "    "
   ]
  }
 ],
 "metadata": {
  "kernelspec": {
   "display_name": "Python 3",
   "language": "python",
   "name": "python3"
  },
  "language_info": {
   "codemirror_mode": {
    "name": "ipython",
    "version": 3
   },
   "file_extension": ".py",
   "mimetype": "text/x-python",
   "name": "python",
   "nbconvert_exporter": "python",
   "pygments_lexer": "ipython3",
   "version": "3.7.3"
  }
 },
 "nbformat": 4,
 "nbformat_minor": 2
}
