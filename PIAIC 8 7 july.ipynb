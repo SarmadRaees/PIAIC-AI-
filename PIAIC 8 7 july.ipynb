{
 "cells": [
  {
   "cell_type": "code",
   "execution_count": 10,
   "metadata": {},
   "outputs": [],
   "source": [
    "class car():\n",
    "    def __init__(self,make,model,year=2018):\n",
    "        self.make=make\n",
    "        self.model=model\n",
    "        self.year=year\n",
    "        self.odometer_reading=0\n",
    "    def description(self):\n",
    "        full_name=f'the name of the car is {self.make} {self.model} {self.year}'\n",
    "        return full_name\n",
    "    def read_odometer(self):\n",
    "        print(f'the car has run {self.odometer_reading} miles')\n",
    "    def update_odometer(self,mileage):\n",
    "        self.odometer_reading=mileage"
   ]
  },
  {
   "cell_type": "code",
   "execution_count": 16,
   "metadata": {},
   "outputs": [],
   "source": [
    "class ElectricCar(car):\n",
    "    def __init__(self,make,model,year):\n",
    "        super().__init__(make,model,year)\n",
    "        self.batterysize=100\n",
    "        self.batteryMan='Exide'\n",
    "    def GetbatterySize(self):\n",
    "        print(f'Battery size is:{self.batterysize}')\n",
    "    def setbatterysize(self,Newsize):\n",
    "        self.batterysize=Newsize\n",
    "   "
   ]
  },
  {
   "cell_type": "code",
   "execution_count": 17,
   "metadata": {},
   "outputs": [],
   "source": [
    "ecar=ElectricCar('abc','model','2019')"
   ]
  },
  {
   "cell_type": "code",
   "execution_count": 6,
   "metadata": {},
   "outputs": [
    {
     "data": {
      "text/plain": [
       "'abc'"
      ]
     },
     "execution_count": 6,
     "metadata": {},
     "output_type": "execute_result"
    }
   ],
   "source": [
    "ecar.make"
   ]
  },
  {
   "cell_type": "code",
   "execution_count": 7,
   "metadata": {},
   "outputs": [
    {
     "data": {
      "text/plain": [
       "'the name of the car is abc model 2019'"
      ]
     },
     "execution_count": 7,
     "metadata": {},
     "output_type": "execute_result"
    }
   ],
   "source": [
    "ecar.description()"
   ]
  },
  {
   "cell_type": "code",
   "execution_count": 13,
   "metadata": {},
   "outputs": [
    {
     "name": "stdout",
     "output_type": "stream",
     "text": [
      "Battery size is:100\n"
     ]
    }
   ],
   "source": [
    "ecar.GetbatterySize()"
   ]
  },
  {
   "cell_type": "code",
   "execution_count": 18,
   "metadata": {},
   "outputs": [],
   "source": [
    "ecar.setbatterysize('200')"
   ]
  },
  {
   "cell_type": "code",
   "execution_count": 19,
   "metadata": {},
   "outputs": [
    {
     "name": "stdout",
     "output_type": "stream",
     "text": [
      "Battery size is:200\n"
     ]
    }
   ],
   "source": [
    "ecar.GetbatterySize()"
   ]
  },
  {
   "cell_type": "code",
   "execution_count": null,
   "metadata": {},
   "outputs": [],
   "source": [
    "#Second method \n",
    "     "
   ]
  },
  {
   "cell_type": "code",
   "execution_count": null,
   "metadata": {},
   "outputs": [],
   "source": [
    "   class ElectricCar(car):\n",
    "    def __init__(self,make,model,year):\n",
    "        super().__init__(make,model,year)"
   ]
  },
  {
   "cell_type": "code",
   "execution_count": null,
   "metadata": {},
   "outputs": [],
   "source": [
    "class Battery():\n",
    "    def __init__(self,manu,size):\n",
    "        self.manu=manu\n",
    "        self.batterysize=size\n",
    "    def GetbatterySize(self):\n",
    "        print(f'Battery size is:{self.batterysize}')\n",
    "    def setbatterysize(self,Newsize):\n",
    "        self.batterysize=Newsize\n",
    "   "
   ]
  },
  {
   "cell_type": "code",
   "execution_count": null,
   "metadata": {},
   "outputs": [],
   "source": []
  },
  {
   "cell_type": "code",
   "execution_count": null,
   "metadata": {},
   "outputs": [],
   "source": []
  },
  {
   "cell_type": "code",
   "execution_count": null,
   "metadata": {},
   "outputs": [],
   "source": []
  },
  {
   "cell_type": "code",
   "execution_count": null,
   "metadata": {},
   "outputs": [],
   "source": []
  },
  {
   "cell_type": "code",
   "execution_count": 67,
   "metadata": {},
   "outputs": [],
   "source": [
    "class Resturant():\n",
    "    def __init__(self,Resturant_name,Cuisine_type):\n",
    "        self.Resturant_name=Resturant_name\n",
    "        self.Cuisine_type=Cuisine_type\n",
    "        self.numberServes=0\n",
    "    def describe_resturnat(self):\n",
    "        print(f'The name of Resturnrt is {self.Resturant_name}')\n",
    "        print(f'The Cuisine type is : {self.Cuisine_type}')\n",
    "    def Open_Resturant(self):\n",
    "        print(f'{self.Resturant_name} is open')\n",
    "    def isopen(self,time):\n",
    "        if time >24 or time <10:\n",
    "            print(f'{self.Resturant_name} is Close') \n",
    "        else:\n",
    "            print(f'{self.Resturant_name} is Open') \n",
    "    def getnumberserved(self):\n",
    "        print(f'{self.numberServes} has been served')\n",
    "    def setnumberserved(self,no):\n",
    "        self.numberServes=no\n",
    "    def incrementnumberserved(self,numbers):\n",
    "        self.numberServes+=numbers\n",
    "        "
   ]
  },
  {
   "cell_type": "code",
   "execution_count": 54,
   "metadata": {},
   "outputs": [],
   "source": [
    "R1=Resturant('Chine Town','Chinese')\n",
    "resturant=Resturant('KFC','Fast Food')\n"
   ]
  },
  {
   "cell_type": "code",
   "execution_count": 55,
   "metadata": {},
   "outputs": [
    {
     "name": "stdout",
     "output_type": "stream",
     "text": [
      "Chine Town\n",
      "Chinese\n"
     ]
    }
   ],
   "source": [
    "print(R1.Resturant_name)\n",
    "print(R1.Cuisine_type)"
   ]
  },
  {
   "cell_type": "code",
   "execution_count": 56,
   "metadata": {},
   "outputs": [
    {
     "name": "stdout",
     "output_type": "stream",
     "text": [
      "The name of Resturnrt is Chine Town\n",
      "The Cuisine type is : Chinese\n"
     ]
    }
   ],
   "source": [
    "R1.describe_resturnat()"
   ]
  },
  {
   "cell_type": "code",
   "execution_count": 33,
   "metadata": {},
   "outputs": [
    {
     "name": "stdout",
     "output_type": "stream",
     "text": [
      "Chine Town is open\n"
     ]
    }
   ],
   "source": [
    "R1.Open_Resturant()"
   ]
  },
  {
   "cell_type": "code",
   "execution_count": 35,
   "metadata": {},
   "outputs": [
    {
     "name": "stdout",
     "output_type": "stream",
     "text": [
      "Chine Town is Open\n"
     ]
    }
   ],
   "source": [
    "R1.isopen(17)"
   ]
  },
  {
   "cell_type": "code",
   "execution_count": 37,
   "metadata": {},
   "outputs": [
    {
     "name": "stdout",
     "output_type": "stream",
     "text": [
      "Chine Town is Close\n"
     ]
    }
   ],
   "source": [
    "R1.isopen(9)"
   ]
  },
  {
   "cell_type": "code",
   "execution_count": 42,
   "metadata": {},
   "outputs": [],
   "source": [
    "resturant.numberServes=90\n"
   ]
  },
  {
   "cell_type": "code",
   "execution_count": 43,
   "metadata": {},
   "outputs": [
    {
     "data": {
      "text/plain": [
       "90"
      ]
     },
     "execution_count": 43,
     "metadata": {},
     "output_type": "execute_result"
    }
   ],
   "source": [
    "resturant.numberServes"
   ]
  },
  {
   "cell_type": "code",
   "execution_count": 52,
   "metadata": {},
   "outputs": [
    {
     "name": "stdout",
     "output_type": "stream",
     "text": [
      "0 has been served\n"
     ]
    }
   ],
   "source": [
    "resturant.getnumberserved()"
   ]
  },
  {
   "cell_type": "code",
   "execution_count": 57,
   "metadata": {},
   "outputs": [],
   "source": [
    "resturant.setnumberserved(20)"
   ]
  },
  {
   "cell_type": "code",
   "execution_count": 58,
   "metadata": {},
   "outputs": [
    {
     "name": "stdout",
     "output_type": "stream",
     "text": [
      "20 has been served\n"
     ]
    }
   ],
   "source": [
    "resturant.getnumberserved()"
   ]
  },
  {
   "cell_type": "code",
   "execution_count": 59,
   "metadata": {},
   "outputs": [],
   "source": [
    "resturant.incrementnumberserved(40)"
   ]
  },
  {
   "cell_type": "code",
   "execution_count": 61,
   "metadata": {},
   "outputs": [
    {
     "name": "stdout",
     "output_type": "stream",
     "text": [
      "60 has been served\n"
     ]
    }
   ],
   "source": [
    "resturant.getnumberserved()"
   ]
  },
  {
   "cell_type": "code",
   "execution_count": 64,
   "metadata": {},
   "outputs": [],
   "source": [
    "class iceCreamStand(Resturant):\n",
    "    def __init__(self,resName,CuisineType):\n",
    "        super().__init__(resName,CuisineType)\n",
    "        self.flavour=['Vanilla','Mangoe','Chocolate']\n",
    "    def getflavour(self):\n",
    "        print(f'flavours are : ')\n",
    "        print(flavour,end='')"
   ]
  },
  {
   "cell_type": "code",
   "execution_count": 65,
   "metadata": {},
   "outputs": [],
   "source": [
    "ice1=iceCreamStand('peshawari','italian')"
   ]
  },
  {
   "cell_type": "code",
   "execution_count": 66,
   "metadata": {},
   "outputs": [
    {
     "name": "stdout",
     "output_type": "stream",
     "text": [
      "italian\n",
      "peshawari\n"
     ]
    }
   ],
   "source": [
    "print(ice1.Cuisine_type)\n",
    "print(ice1.Resturant_name)"
   ]
  },
  {
   "cell_type": "code",
   "execution_count": null,
   "metadata": {},
   "outputs": [],
   "source": []
  }
 ],
 "metadata": {
  "kernelspec": {
   "display_name": "Python 3",
   "language": "python",
   "name": "python3"
  },
  "language_info": {
   "codemirror_mode": {
    "name": "ipython",
    "version": 3
   },
   "file_extension": ".py",
   "mimetype": "text/x-python",
   "name": "python",
   "nbconvert_exporter": "python",
   "pygments_lexer": "ipython3",
   "version": "3.7.3"
  }
 },
 "nbformat": 4,
 "nbformat_minor": 2
}
