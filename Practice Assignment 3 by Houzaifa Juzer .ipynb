{
 "cells": [
  {
   "cell_type": "markdown",
   "metadata": {},
   "source": [
    "# Q1:"
   ]
  },
  {
   "cell_type": "markdown",
   "metadata": {},
   "source": [
    "Think of at least three kinds of your favorite pizza. Store these pizza names in a list, and then use a for loop to print the name of each pizza."
   ]
  },
  {
   "cell_type": "code",
   "execution_count": 1,
   "metadata": {},
   "outputs": [],
   "source": [
    "Pizza=[\"tikka pizza\" ,\"BBQ pizza\" , \"fajjita pizza\"]\n"
   ]
  },
  {
   "cell_type": "code",
   "execution_count": 2,
   "metadata": {},
   "outputs": [
    {
     "name": "stdout",
     "output_type": "stream",
     "text": [
      "tikka pizza\n",
      "BBQ pizza\n",
      "fajjita pizza\n"
     ]
    }
   ],
   "source": [
    "for a in Pizza:\n",
    "    print(a)"
   ]
  },
  {
   "cell_type": "code",
   "execution_count": null,
   "metadata": {},
   "outputs": [],
   "source": []
  },
  {
   "cell_type": "markdown",
   "metadata": {},
   "source": [
    "# Q2"
   ]
  },
  {
   "cell_type": "markdown",
   "metadata": {},
   "source": [
    "Start with your last question , Modify your for loop to print a sentence using the name of the pizza\n",
    "instead of printing just the name of the pizza. For each pizza you should\n",
    "have one line of output containing a simple statement like I like pepperoni\n",
    "pizza."
   ]
  },
  {
   "cell_type": "code",
   "execution_count": 3,
   "metadata": {},
   "outputs": [
    {
     "name": "stdout",
     "output_type": "stream",
     "text": [
      "i like  tikka piiza\n",
      "i like  BBQ pizza\n",
      "i like  fajitta pizza\n"
     ]
    }
   ],
   "source": [
    "Pizza=[\"tikka piiza\",\"BBQ pizza\",\"fajitta pizza\"]\n",
    "for a in Pizza:\n",
    "    print('i like ',a)"
   ]
  },
  {
   "cell_type": "code",
   "execution_count": null,
   "metadata": {},
   "outputs": [],
   "source": []
  },
  {
   "cell_type": "code",
   "execution_count": null,
   "metadata": {},
   "outputs": [],
   "source": []
  },
  {
   "cell_type": "markdown",
   "metadata": {},
   "source": [
    "# Q3:"
   ]
  },
  {
   "cell_type": "markdown",
   "metadata": {},
   "source": [
    "Use a for loop to print the numbers from 1 to 20,\n",
    "inclusive."
   ]
  },
  {
   "cell_type": "code",
   "execution_count": 4,
   "metadata": {},
   "outputs": [
    {
     "name": "stdout",
     "output_type": "stream",
     "text": [
      "0\n",
      "1\n",
      "2\n",
      "3\n",
      "4\n",
      "5\n",
      "6\n",
      "7\n",
      "8\n",
      "9\n",
      "10\n",
      "11\n",
      "12\n",
      "13\n",
      "14\n",
      "15\n",
      "16\n",
      "17\n",
      "18\n",
      "19\n",
      "20\n"
     ]
    }
   ],
   "source": [
    "for n in range(0,21):\n",
    "    print(n)"
   ]
  },
  {
   "cell_type": "code",
   "execution_count": null,
   "metadata": {},
   "outputs": [],
   "source": []
  },
  {
   "cell_type": "code",
   "execution_count": null,
   "metadata": {},
   "outputs": [],
   "source": []
  },
  {
   "cell_type": "markdown",
   "metadata": {},
   "source": [
    "# Q4:"
   ]
  },
  {
   "cell_type": "markdown",
   "metadata": {},
   "source": [
    "Use the third argument of the range() function to make a list\n",
    "of the odd numbers from 1 to 20. Use a for loop to print each number."
   ]
  },
  {
   "cell_type": "code",
   "execution_count": 5,
   "metadata": {},
   "outputs": [
    {
     "name": "stdout",
     "output_type": "stream",
     "text": [
      "1\n",
      "3\n",
      "5\n",
      "7\n",
      "9\n",
      "11\n",
      "13\n",
      "15\n",
      "17\n",
      "19\n"
     ]
    }
   ],
   "source": [
    "for m in range(1,20):\n",
    "    if(m%2!=0):\n",
    "        print(m)"
   ]
  },
  {
   "cell_type": "code",
   "execution_count": null,
   "metadata": {},
   "outputs": [],
   "source": []
  },
  {
   "cell_type": "code",
   "execution_count": null,
   "metadata": {},
   "outputs": [],
   "source": []
  },
  {
   "cell_type": "markdown",
   "metadata": {},
   "source": [
    "# Q5:"
   ]
  },
  {
   "cell_type": "markdown",
   "metadata": {},
   "source": [
    "Make a list of the multiples of 3 from 3 to 30. Use a for loop to\n",
    "print the numbers in your list."
   ]
  },
  {
   "cell_type": "code",
   "execution_count": 6,
   "metadata": {},
   "outputs": [
    {
     "name": "stdout",
     "output_type": "stream",
     "text": [
      "3 *  1 =  3\n",
      "3 *  2 =  6\n",
      "3 *  3 =  9\n",
      "3 *  4 =  12\n",
      "3 *  5 =  15\n",
      "3 *  6 =  18\n",
      "3 *  7 =  21\n",
      "3 *  8 =  24\n",
      "3 *  9 =  27\n",
      "3 *  10 =  30\n",
      "3 *  11 =  33\n",
      "3 *  12 =  36\n",
      "3 *  13 =  39\n",
      "3 *  14 =  42\n",
      "3 *  15 =  45\n",
      "3 *  16 =  48\n",
      "3 *  17 =  51\n",
      "3 *  18 =  54\n",
      "3 *  19 =  57\n",
      "3 *  20 =  60\n",
      "3 *  21 =  63\n",
      "3 *  22 =  66\n",
      "3 *  23 =  69\n",
      "3 *  24 =  72\n",
      "3 *  25 =  75\n",
      "3 *  26 =  78\n",
      "3 *  27 =  81\n",
      "3 *  28 =  84\n",
      "3 *  29 =  87\n",
      "3 *  30 =  90\n"
     ]
    }
   ],
   "source": [
    "for k in range(1,31):\n",
    "    print(\"3 * \",k,\"= \",3*k)"
   ]
  },
  {
   "cell_type": "code",
   "execution_count": null,
   "metadata": {},
   "outputs": [],
   "source": []
  },
  {
   "cell_type": "code",
   "execution_count": null,
   "metadata": {},
   "outputs": [],
   "source": []
  },
  {
   "cell_type": "code",
   "execution_count": null,
   "metadata": {},
   "outputs": [],
   "source": []
  },
  {
   "cell_type": "markdown",
   "metadata": {},
   "source": [
    "# Q6:"
   ]
  },
  {
   "cell_type": "markdown",
   "metadata": {},
   "source": [
    "A number raised to the third power is called a cube. For example,\n",
    "the cube of 2 is written as 2**3 in Python. Make a list of the first 10 cubes (that\n",
    "is, the cube of each integer from 1 through 10), and use a for loop to print out\n",
    "the value of each cube"
   ]
  },
  {
   "cell_type": "code",
   "execution_count": 7,
   "metadata": {},
   "outputs": [
    {
     "name": "stdout",
     "output_type": "stream",
     "text": [
      "1\n",
      "8\n",
      "27\n",
      "64\n",
      "125\n",
      "216\n",
      "343\n",
      "512\n",
      "729\n"
     ]
    }
   ],
   "source": [
    "for l in range(1,10):\n",
    "    print(l**3)"
   ]
  },
  {
   "cell_type": "code",
   "execution_count": null,
   "metadata": {},
   "outputs": [],
   "source": []
  },
  {
   "cell_type": "code",
   "execution_count": null,
   "metadata": {},
   "outputs": [],
   "source": []
  },
  {
   "cell_type": "code",
   "execution_count": null,
   "metadata": {},
   "outputs": [],
   "source": []
  },
  {
   "cell_type": "markdown",
   "metadata": {},
   "source": [
    "# Q7:"
   ]
  },
  {
   "cell_type": "markdown",
   "metadata": {},
   "source": [
    "###### Make a python program that conatains your nine favourite dishes in a list called foods.\n",
    "\n",
    "###### Print the message, The first three items in the list are:. \n",
    "###### Then use a slice to print the first three items from that program’s list.\n",
    "\n",
    "###### Print the message, Three items from the middle of the list are:\n",
    "###### Use a slice to print three items from the middle of the list.\n",
    "\n",
    "###### Print the message, The last three items in the list are:\n",
    "###### Use a slice to print the last three items in the list."
   ]
  },
  {
   "cell_type": "code",
   "execution_count": 8,
   "metadata": {},
   "outputs": [],
   "source": [
    "food=[\"biryani\",\"yakhni plau\",\"chinese rice\",\"chicken Qorma\",\"mutton Karahi\",\"haleem\",\"kheer\",\"custord\",\"macroni\"]"
   ]
  },
  {
   "cell_type": "code",
   "execution_count": 9,
   "metadata": {},
   "outputs": [
    {
     "name": "stdout",
     "output_type": "stream",
     "text": [
      "The First three Items in the List are : ['biryani', 'yakhni plau', 'chinese rice']\n"
     ]
    }
   ],
   "source": [
    "print(\"The First three Items in the List are :\",food[0:3:1])\n"
   ]
  },
  {
   "cell_type": "code",
   "execution_count": 10,
   "metadata": {},
   "outputs": [
    {
     "name": "stdout",
     "output_type": "stream",
     "text": [
      "Three Items from the middle of the list are : ['chicken Qorma', 'mutton Karahi', 'haleem']\n"
     ]
    }
   ],
   "source": [
    "print(\"Three Items from the middle of the list are :\",food[3:6])"
   ]
  },
  {
   "cell_type": "code",
   "execution_count": 11,
   "metadata": {},
   "outputs": [
    {
     "name": "stdout",
     "output_type": "stream",
     "text": [
      "The Last three Items in the list are : ['kheer', 'custord', 'macroni']\n"
     ]
    }
   ],
   "source": [
    "print(\"The Last three Items in the list are :\",food[6:9])"
   ]
  },
  {
   "cell_type": "code",
   "execution_count": null,
   "metadata": {},
   "outputs": [],
   "source": []
  },
  {
   "cell_type": "code",
   "execution_count": null,
   "metadata": {},
   "outputs": [],
   "source": []
  },
  {
   "cell_type": "code",
   "execution_count": null,
   "metadata": {},
   "outputs": [],
   "source": []
  },
  {
   "cell_type": "markdown",
   "metadata": {},
   "source": [
    "# Q8:"
   ]
  },
  {
   "cell_type": "markdown",
   "metadata": {},
   "source": [
    "### Start with your program from your last Question8.\n",
    "###### Make a copy of the list of foods, and call it friend_foods.\n",
    "###### Then, do the following:\n",
    "######    Add a new dish to the original list.\n",
    "######    Add a different dish to the list friend_foodss.\n",
    "######    Prove that you have two separate lists. \n",
    "###### Print the message, My favorite pizzas are: and then use a for loop to print the first list. \n",
    "###### Print the message,\n",
    "###### My friend’s favorite foods are:, and then use a for loop to print the second list.\n",
    "    \n",
    "##### NOTE: Make sure each new dish is stored in the appropriate list."
   ]
  },
  {
   "cell_type": "code",
   "execution_count": 12,
   "metadata": {},
   "outputs": [
    {
     "data": {
      "text/plain": [
       "['biryani',\n",
       " 'yakhni plau',\n",
       " 'chinese rice',\n",
       " 'chicken Qorma',\n",
       " 'mutton Karahi',\n",
       " 'haleem',\n",
       " 'kheer',\n",
       " 'custord',\n",
       " 'macroni']"
      ]
     },
     "execution_count": 12,
     "metadata": {},
     "output_type": "execute_result"
    }
   ],
   "source": [
    "friend_foods=[\"biryani\",\"yakhni plau\",\"chinese rice\",\"chicken Qorma\",\"mutton Karahi\",\"haleem\",\"kheer\",\"custord\",\"macroni\",]\n",
    "friend_foods"
   ]
  },
  {
   "cell_type": "code",
   "execution_count": 13,
   "metadata": {},
   "outputs": [
    {
     "data": {
      "text/plain": [
       "['pizza',\n",
       " 'burger',\n",
       " 'fries and drinks',\n",
       " ['biryani',\n",
       "  'yakhni plau',\n",
       "  'chinese rice',\n",
       "  'chicken Qorma',\n",
       "  'mutton Karahi',\n",
       "  'haleem',\n",
       "  'kheer',\n",
       "  'custord',\n",
       "  'macroni']]"
      ]
     },
     "execution_count": 13,
     "metadata": {},
     "output_type": "execute_result"
    }
   ],
   "source": [
    "new_dish=[\"pizza\",\"burger\",\"fries and drinks\",friend_foods]\n",
    "new_dish"
   ]
  },
  {
   "cell_type": "code",
   "execution_count": 14,
   "metadata": {},
   "outputs": [
    {
     "data": {
      "text/plain": [
       "['biryani',\n",
       " 'yakhni plau',\n",
       " 'chinese rice',\n",
       " 'chicken Qorma',\n",
       " 'mutton Karahi',\n",
       " 'haleem',\n",
       " 'kheer',\n",
       " 'custord',\n",
       " 'macroni',\n",
       " 'daal chawal']"
      ]
     },
     "execution_count": 14,
     "metadata": {},
     "output_type": "execute_result"
    }
   ],
   "source": [
    "friend_foods.append(\"daal chawal\")\n",
    "friend_foods"
   ]
  },
  {
   "cell_type": "code",
   "execution_count": 15,
   "metadata": {},
   "outputs": [
    {
     "name": "stdout",
     "output_type": "stream",
     "text": [
      "My favourite foods is : pizza\n",
      "My favourite foods is : burger\n",
      "My favourite foods is : fries and drinks\n"
     ]
    }
   ],
   "source": [
    "for d in new_dish[0:3]:\n",
    "    print(\"My favourite foods is :\",d)"
   ]
  },
  {
   "cell_type": "code",
   "execution_count": 16,
   "metadata": {},
   "outputs": [
    {
     "name": "stdout",
     "output_type": "stream",
     "text": [
      "My friend favourite foods are : ['biryani', 'yakhni plau', 'chinese rice', 'chicken Qorma', 'mutton Karahi', 'haleem', 'kheer', 'custord', 'macroni', 'daal chawal']\n"
     ]
    }
   ],
   "source": [
    "for f in new_dish[3::]:\n",
    "    print(\"My friend favourite foods are :\",f)"
   ]
  },
  {
   "cell_type": "code",
   "execution_count": null,
   "metadata": {},
   "outputs": [],
   "source": [
    " "
   ]
  },
  {
   "cell_type": "code",
   "execution_count": null,
   "metadata": {},
   "outputs": [],
   "source": []
  },
  {
   "cell_type": "markdown",
   "metadata": {},
   "source": [
    "# Q9:"
   ]
  },
  {
   "cell_type": "markdown",
   "metadata": {},
   "source": [
    "Take a user input from console line.Store it in a variable called Alien_color.\n",
    "\n",
    "If the alien’s color is red, print a statement that the player just earned 5 points for shooting the alien.\n",
    "\n",
    "If the alien’s color isn’t green, print a statement that the player just earned 10 points.\n",
    "\n",
    "If the alien's color isn't red or green , print a statment :, Alien is no more....."
   ]
  },
  {
   "cell_type": "code",
   "execution_count": 17,
   "metadata": {},
   "outputs": [
    {
     "name": "stdout",
     "output_type": "stream",
     "text": [
      "Enter the color of Alien\n",
      "Nonered\n",
      "red\n"
     ]
    }
   ],
   "source": [
    "Alien_color = input(print(\"Enter the color of Alien\"))\n",
    "print(Alien_color)"
   ]
  },
  {
   "cell_type": "code",
   "execution_count": 18,
   "metadata": {},
   "outputs": [
    {
     "name": "stdout",
     "output_type": "stream",
     "text": [
      "the player just earned 5 points for shooting the alien.\n"
     ]
    }
   ],
   "source": [
    "if Alien_color == 'red':\n",
    "    print(\"the player just earned 5 points for shooting the alien.\")\n",
    "elif Alien_color != 'green':\n",
    "        print(\"the player just earned 10 points.\")\n",
    "else :\n",
    "     print(\"Alien is no more.\" )    \n",
    "    "
   ]
  },
  {
   "cell_type": "code",
   "execution_count": 19,
   "metadata": {},
   "outputs": [
    {
     "name": "stdout",
     "output_type": "stream",
     "text": [
      "Enter the color of Alien\n",
      "Noneorange\n",
      "orange\n",
      "the player just earned 10 points.\n"
     ]
    }
   ],
   "source": [
    "Alien_color = input(print(\"Enter the color of Alien\"))\n",
    "print(Alien_color)\n",
    "\n",
    "if Alien_color == 'red':\n",
    "    print(\"the player just earned 5 points for shooting the alien.\")\n",
    "elif Alien_color != 'green':\n",
    "        print(\"the player just earned 10 points.\")\n",
    "elif Alien_color != 'red' or Alien_color != 'green' :\n",
    "     print(\"Alien is no more.\")\n",
    "    \n"
   ]
  },
  {
   "cell_type": "code",
   "execution_count": 20,
   "metadata": {},
   "outputs": [
    {
     "name": "stdout",
     "output_type": "stream",
     "text": [
      "Enter the color of Alien\n",
      "Nonegreen\n",
      "green\n",
      "Alien is no more.\n"
     ]
    }
   ],
   "source": [
    "Alien_color = input(print(\"Enter the color of Alien\"))\n",
    "print(Alien_color)\n",
    "\n",
    "if Alien_color == 'red':\n",
    "    print(\"the player just earned 5 points for shooting the alien.\")\n",
    "elif Alien_color != 'green':\n",
    "     print(\"the player just earned 10 points\")  \n",
    "else :\n",
    "    print(\"Alien is no more.\")  "
   ]
  },
  {
   "cell_type": "markdown",
   "metadata": {},
   "source": [
    "# Q10:"
   ]
  },
  {
   "cell_type": "markdown",
   "metadata": {},
   "source": [
    "Write an if-elif-else chain that determines a person’s\n",
    "stage of life. Set a value for the variable age, and then:\n",
    "    \n",
    "•\t If the person is less than 2 years old, print a message that the person is a baby.\n",
    "\n",
    "•\t If the person is at least 2 years old but less than 4, print a message that the person is a toddler.\n",
    "\n",
    "•\t If the person is at least 4 years old but less than 13, print a message that the person is a kid.\n",
    "\n",
    "•\t If the person is at least 13 years old but less than 20, print a message that the person is a teenager.\n",
    "\n",
    "•\t If the person is at least 20 years old but less than 65, print a message that the person is an adult.\n",
    "\n",
    "•\t If the person is age 65 or older, print a message that the person is an elder."
   ]
  },
  {
   "cell_type": "code",
   "execution_count": 21,
   "metadata": {},
   "outputs": [
    {
     "name": "stdout",
     "output_type": "stream",
     "text": [
      "person is adult\n"
     ]
    }
   ],
   "source": [
    "age = 20\n",
    "if age <= 2:\n",
    "    print(\"person is baby\")\n",
    "elif age >= 2 and age < 4:\n",
    "    print(\"person is toddler\")\n",
    "elif age >= 4 and age < 13:\n",
    "    print(\"person is kid\")\n",
    "elif age >= 13 and age < 20:\n",
    "    print(\"person is teenager\")\n",
    "elif age >= 20 and age < 65:\n",
    "    print(\"person is adult\")\n",
    "else:\n",
    "    print(\"person is elder\")"
   ]
  },
  {
   "cell_type": "code",
   "execution_count": null,
   "metadata": {},
   "outputs": [],
   "source": []
  },
  {
   "cell_type": "code",
   "execution_count": null,
   "metadata": {},
   "outputs": [],
   "source": []
  },
  {
   "cell_type": "code",
   "execution_count": null,
   "metadata": {},
   "outputs": [],
   "source": []
  },
  {
   "cell_type": "code",
   "execution_count": null,
   "metadata": {},
   "outputs": [],
   "source": []
  },
  {
   "cell_type": "code",
   "execution_count": null,
   "metadata": {},
   "outputs": [],
   "source": []
  },
  {
   "cell_type": "markdown",
   "metadata": {},
   "source": [
    "# Q11:"
   ]
  },
  {
   "cell_type": "markdown",
   "metadata": {},
   "source": [
    "Do the following to create a program that simulates how websites ensure that everyone has a unique username.\n",
    "\n",
    "•\t Make a list of five or more usernames called current_users.\n",
    "\n",
    "•\t Make another list of five usernames called new_users. \n",
    "Make sure one or two of the new usernames are also in the current_users list.\n",
    "\n",
    "•\t Loop through the new_users list to see if each new username has already been used. \n",
    "If it has, print a message that the person will need to enter a new username. \n",
    "If a username has not been used, print a message saying that the username is available.\n",
    "\n",
    "•\t Make sure your comparison is case insensitive. If 'John' has been used, 'JOHN' should not be accepted."
   ]
  },
  {
   "cell_type": "code",
   "execution_count": 29,
   "metadata": {},
   "outputs": [],
   "source": [
    "current_users=[\"maheen\",\"zara\",\"tuba\",\"nihan\",\"arooba\"]\n",
    "new_users=[\"maheen\",\"safia\",\"hafsa\",\"tuba\",\"kiran\"]"
   ]
  },
  {
   "cell_type": "code",
   "execution_count": 23,
   "metadata": {},
   "outputs": [
    {
     "name": "stdout",
     "output_type": "stream",
     "text": [
      "maheen enter a new username please.\n",
      "safia this username is availiable\n",
      "hafsa this username is availiable\n",
      "tuba enter a new username please.\n",
      "kiran this username is availiable\n"
     ]
    }
   ],
   "source": [
    "current_users_lower=[user.lower() for user in current_users]\n",
    "for new_user in new_users :\n",
    "    if new_user.lower() in current_users_lower:\n",
    "        print( new_user +\" enter a new username please.\")\n",
    "    else:\n",
    "        print(new_user+\" this username is availiable\")"
   ]
  },
  {
   "cell_type": "code",
   "execution_count": null,
   "metadata": {},
   "outputs": [],
   "source": []
  },
  {
   "cell_type": "code",
   "execution_count": null,
   "metadata": {},
   "outputs": [],
   "source": []
  },
  {
   "cell_type": "markdown",
   "metadata": {},
   "source": [
    "# Q12:"
   ]
  },
  {
   "cell_type": "markdown",
   "metadata": {},
   "source": [
    "Use a dictionary to store information about a person you know.\n",
    "Store their first name, last name, age, and the city in which they live. \n",
    "You should have keys such as first_name, last_name, age, and city. \n",
    "Print each piece of information stored in your dictionary"
   ]
  },
  {
   "cell_type": "code",
   "execution_count": 24,
   "metadata": {},
   "outputs": [
    {
     "name": "stdout",
     "output_type": "stream",
     "text": [
      "First Name : Alishba\n",
      "Last Name : Hafeez\n",
      "Age :25\n",
      "City : karachi\n"
     ]
    }
   ],
   "source": [
    "person={'first_name': 'Alishba','last_name': 'Hafeez','age': 25,'city':'karachi'}\n",
    "print('First Name :', person['first_name'])\n",
    "print('Last Name :' , person['last_name'])\n",
    "print('Age :'  + str(person['age']))\n",
    "print('City :' ,person['city'])"
   ]
  },
  {
   "cell_type": "code",
   "execution_count": null,
   "metadata": {},
   "outputs": [],
   "source": []
  },
  {
   "cell_type": "code",
   "execution_count": null,
   "metadata": {},
   "outputs": [],
   "source": []
  },
  {
   "cell_type": "code",
   "execution_count": null,
   "metadata": {},
   "outputs": [],
   "source": []
  },
  {
   "cell_type": "markdown",
   "metadata": {},
   "source": [
    "# Q13:"
   ]
  },
  {
   "cell_type": "markdown",
   "metadata": {},
   "source": [
    "Starts with your last question 12 , loop through the dictionary’s keys and values.\n",
    "When you’re sure that your loop works, add five more Python terms to your\n",
    "dictionary . When you run your program again, these new words and meanings\n",
    "should automatically be included in the output."
   ]
  },
  {
   "cell_type": "code",
   "execution_count": 32,
   "metadata": {},
   "outputs": [
    {
     "name": "stdout",
     "output_type": "stream",
     "text": [
      "first_name : maryiam\n",
      "last_name : sajeel\n",
      "age : 24\n",
      "city : karachi\n",
      "if : any condition\n",
      " += , -= , *= : assign operator\n",
      "for : for loop\n",
      " >= , <= , == , != : comparison operator\n",
      "and , or , not : logical operators\n"
     ]
    }
   ],
   "source": [
    "person = {'first_name': \"maryiam\", 'last_name': \"sajeel\",'age': '24','city':\"karachi\"}\n",
    "person ['if'] = \"any condition\"\n",
    "person [\" += , -= , *=\"] = \"assign operator\"\n",
    "person [\"for\"] = \"for loop\"\n",
    "person [\" >= , <= , == , !=\"]= \"comparison operator\"\n",
    "person [\"and , or , not\"] = \"logical operators\"\n",
    "for key, value in person.items():\n",
    "    print(key + \" : \" + value)"
   ]
  },
  {
   "cell_type": "code",
   "execution_count": null,
   "metadata": {},
   "outputs": [],
   "source": []
  },
  {
   "cell_type": "code",
   "execution_count": null,
   "metadata": {},
   "outputs": [],
   "source": []
  },
  {
   "cell_type": "code",
   "execution_count": null,
   "metadata": {},
   "outputs": [],
   "source": []
  },
  {
   "cell_type": "code",
   "execution_count": null,
   "metadata": {},
   "outputs": [],
   "source": []
  },
  {
   "cell_type": "markdown",
   "metadata": {},
   "source": [
    "# Q14:"
   ]
  },
  {
   "cell_type": "markdown",
   "metadata": {},
   "source": [
    "Make a dictionary containing three major rivers and the country\n",
    "each river runs through. One key-value pair might be 'nile': 'egypt'.\n",
    "    \n",
    "    \n",
    "•\t Use a loop to print a sentence about each river, such as The Nile runs\n",
    "through Egypt.\n",
    "\n",
    "NOTE: use upper case through keys and values."
   ]
  },
  {
   "cell_type": "code",
   "execution_count": 33,
   "metadata": {},
   "outputs": [
    {
     "name": "stdout",
     "output_type": "stream",
     "text": [
      "The NILE runs through EGYPT.\n",
      "The MEKONG runs through THAILAND.\n",
      "The DANUBE runs through GERMANY.\n"
     ]
    }
   ],
   "source": [
    "rivers = {'nile': 'egypt','mekong': 'thailand','danube': 'germany'}\n",
    "for river, country in rivers.items():\n",
    "    print(\"The \" + river.upper() + \" runs through \" + country.upper() + \".\" )"
   ]
  },
  {
   "cell_type": "code",
   "execution_count": null,
   "metadata": {},
   "outputs": [],
   "source": []
  },
  {
   "cell_type": "code",
   "execution_count": null,
   "metadata": {},
   "outputs": [],
   "source": []
  },
  {
   "cell_type": "markdown",
   "metadata": {},
   "source": [
    "# Q15:"
   ]
  },
  {
   "cell_type": "markdown",
   "metadata": {},
   "source": [
    "Make several dictionaries, where the name of each dictionary is the\n",
    "name of a pet. In each dictionary, include the kind of animal and the owner’s\n",
    "name. Store these dictionaries in a list called pets. Next, loop through your list\n",
    "and as you do print everything you know about each pet."
   ]
  },
  {
   "cell_type": "code",
   "execution_count": 39,
   "metadata": {},
   "outputs": [
    {
     "name": "stdout",
     "output_type": "stream",
     "text": [
      "Here's what I know about bablu:\n",
      "name: bablu\n",
      "animal type: dog\n",
      "owner: naureen\n",
      "Here's what I know about fluffy:\n",
      "name: fluffy\n",
      "animal type: rabbit\n",
      "owner: nihan\n",
      "Here's what I know about sweety:\n",
      "name: sweety\n",
      "animal type: parrot\n",
      "owner: natasha\n"
     ]
    }
   ],
   "source": [
    "pets=[]\n",
    "pet = {'name':'bablu','animal type': 'dog','owner': 'naureen'}\n",
    "pets.append(pet)\n",
    "pet = {'name':'fluffy','animal type': 'rabbit','owner': 'nihan'}\n",
    "pets.append(pet)\n",
    "pet = {'name':'sweety','animal type': 'parrot','owner': 'natasha'}\n",
    "pets.append(pet)\n",
    "for pet in pets:\n",
    "    print(\"Here's what I know about \" + pet['name'] + \":\")\n",
    "    for key, value in pet.items():\n",
    "        print( key + \": \" + value)"
   ]
  }
 ],
 "metadata": {
  "kernelspec": {
   "display_name": "Python 3",
   "language": "python",
   "name": "python3"
  },
  "language_info": {
   "codemirror_mode": {
    "name": "ipython",
    "version": 3
   },
   "file_extension": ".py",
   "mimetype": "text/x-python",
   "name": "python",
   "nbconvert_exporter": "python",
   "pygments_lexer": "ipython3",
   "version": "3.7.3"
  }
 },
 "nbformat": 4,
 "nbformat_minor": 2
}
