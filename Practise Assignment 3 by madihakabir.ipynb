{
 "cells": [
  {
   "cell_type": "markdown",
   "metadata": {},
   "source": []
  },
  {
   "cell_type": "markdown",
   "metadata": {},
   "source": [
    "# Q1:"
   ]
  },
  {
   "cell_type": "markdown",
   "metadata": {},
   "source": [
    "Think of at least three kinds of your favorite pizza. Store these pizza names in a list, and then use a for loop to print the name of each pizza."
   ]
  },
  {
   "cell_type": "code",
   "execution_count": 38,
   "metadata": {},
   "outputs": [
    {
     "name": "stdout",
     "output_type": "stream",
     "text": [
      "chicken tikka pizza\n",
      "doubel creamy max\n",
      "chessy pizza\n"
     ]
    }
   ],
   "source": [
    "pizza = [\"chicken tikka pizza\" , \"doubel creamy max\" , \"chessy pizza\"]\n",
    "for pizza in pizza:\n",
    "    print (pizza)"
   ]
  },
  {
   "cell_type": "markdown",
   "metadata": {},
   "source": [
    "# Q2"
   ]
  },
  {
   "cell_type": "markdown",
   "metadata": {},
   "source": [
    "Start with your last question , Modify your for loop to print a sentence using the name of the pizza\n",
    "instead of printing just the name of the pizza. For each pizza you should\n",
    "have one line of output containing a simple statement like I like pepperoni\n",
    "pizza."
   ]
  },
  {
   "cell_type": "code",
   "execution_count": 48,
   "metadata": {},
   "outputs": [
    {
     "name": "stdout",
     "output_type": "stream",
     "text": [
      "i like chicken tikka pizza pizza .\n",
      "i like doubel creamy pizza pizza .\n",
      "i like chessy pizza pizza .\n"
     ]
    }
   ],
   "source": [
    "pizza = [\"chicken tikka pizza\" , \"doubel creamy pizza\" , \"chessy pizza\"]\n",
    "for pizza in pizza:\n",
    "    print (\"i like \" + pizza + \" pizza \" + \".\")"
   ]
  },
  {
   "cell_type": "markdown",
   "metadata": {},
   "source": [
    "# Q3:"
   ]
  },
  {
   "cell_type": "markdown",
   "metadata": {},
   "source": [
    "Use a for loop to print the numbers from 1 to 20,\n",
    "inclusive."
   ]
  },
  {
   "cell_type": "code",
   "execution_count": 54,
   "metadata": {},
   "outputs": [
    {
     "name": "stdout",
     "output_type": "stream",
     "text": [
      "1\n",
      "2\n",
      "3\n",
      "4\n",
      "5\n",
      "6\n",
      "7\n",
      "8\n",
      "9\n",
      "10\n",
      "11\n",
      "12\n",
      "13\n",
      "14\n",
      "15\n",
      "16\n",
      "17\n",
      "18\n",
      "19\n",
      "20\n"
     ]
    }
   ],
   "source": [
    "for value in range (1,21):\n",
    "    print (value)"
   ]
  },
  {
   "cell_type": "markdown",
   "metadata": {},
   "source": [
    "# Q4:"
   ]
  },
  {
   "cell_type": "markdown",
   "metadata": {},
   "source": [
    "Use the third argument of the range() function to make a list\n",
    "of the odd numbers from 1 to 20. Use a for loop to print each number."
   ]
  },
  {
   "cell_type": "code",
   "execution_count": 66,
   "metadata": {},
   "outputs": [
    {
     "name": "stdout",
     "output_type": "stream",
     "text": [
      "[1, 3, 5, 7, 9, 11, 13, 15, 17, 19]\n"
     ]
    }
   ],
   "source": [
    "odd_numbers = list(range(1,20,2))\n",
    "print (odd_numbers)"
   ]
  },
  {
   "cell_type": "markdown",
   "metadata": {},
   "source": [
    "# Q5:"
   ]
  },
  {
   "cell_type": "markdown",
   "metadata": {},
   "source": [
    "Make a list of the multiples of 3 from 3 to 30. Use a for loop to\n",
    "print the numbers in your list."
   ]
  },
  {
   "cell_type": "code",
   "execution_count": 5,
   "metadata": {},
   "outputs": [
    {
     "name": "stdout",
     "output_type": "stream",
     "text": [
      "3\n",
      "6\n",
      "9\n",
      "12\n",
      "15\n",
      "18\n",
      "21\n",
      "24\n",
      "27\n",
      "30\n"
     ]
    }
   ],
   "source": [
    "multiples_of_3 = [value for value in range(3,31,3)]\n",
    "for multiples_of_3 in multiples_of_3:\n",
    "    print (multiples_of_3)"
   ]
  },
  {
   "cell_type": "markdown",
   "metadata": {},
   "source": [
    "# Q6:"
   ]
  },
  {
   "cell_type": "markdown",
   "metadata": {},
   "source": [
    "A number raised to the third power is called a cube. For example,\n",
    "the cube of 2 is written as 2**3 in Python. Make a list of the first 10 cubes (that\n",
    "is, the cube of each integer from 1 through 10), and use a for loop to print out\n",
    "the value of each cube"
   ]
  },
  {
   "cell_type": "code",
   "execution_count": 2,
   "metadata": {},
   "outputs": [
    {
     "name": "stdout",
     "output_type": "stream",
     "text": [
      "1\n",
      "8\n",
      "27\n",
      "64\n",
      "125\n",
      "216\n",
      "343\n",
      "512\n",
      "729\n",
      "1000\n"
     ]
    }
   ],
   "source": [
    "cubes = [value **3 for value in range (1,11)]\n",
    "for cubes in cubes:\n",
    "    print (cubes)"
   ]
  },
  {
   "cell_type": "markdown",
   "metadata": {},
   "source": [
    "# Q7:"
   ]
  },
  {
   "cell_type": "markdown",
   "metadata": {},
   "source": [
    "###### Make a python program that conatains your nine favourite dishes in a list called foods.\n",
    "\n",
    "###### Print the message, The first three items in the list are:. \n",
    "###### Then use a slice to print the first three items from that program’s list.\n",
    "\n",
    "###### Print the message, Three items from the middle of the list are:\n",
    "###### Use a slice to print three items from the middle of the list.\n",
    "\n",
    "###### Print the message, The last three items in the list are:\n",
    "###### Use a slice to print the last three items in the list."
   ]
  },
  {
   "cell_type": "code",
   "execution_count": 3,
   "metadata": {},
   "outputs": [
    {
     "name": "stdout",
     "output_type": "stream",
     "text": [
      "the first three items in the are:\n",
      "\n",
      "biryani\n",
      "malai boti\n",
      "nuggets\n"
     ]
    }
   ],
   "source": [
    "favourite_dishes = [\"biryani\",\"malai boti\",\"nuggets\",\"fish\",\"pizza\",\"fried rice\",\"tandori chicken\",\"achar ghost\",\"karahi\"]\n",
    "print(\"the first three items in the are:\\n\")\n",
    "for favourite_dishes in favourite_dishes [:3]:\n",
    "    print (favourite_dishes)\n"
   ]
  },
  {
   "cell_type": "code",
   "execution_count": 5,
   "metadata": {},
   "outputs": [
    {
     "name": "stdout",
     "output_type": "stream",
     "text": [
      "three items from the middle in the list are:\n",
      "\n",
      "fish\n",
      "pizza\n",
      "fried rice\n"
     ]
    }
   ],
   "source": [
    "favourite_dishes = [\"biryani\",\"malai boti\",\"nuggets\",\"fish\",\"pizza\",\"fried rice\",\"tandori chicken\",\"achar ghost\",\"karahi\"]\n",
    "print (\"three items from the middle in the list are:\\n\")\n",
    "for favourite_dishes in favourite_dishes [-6:-3]:\n",
    "    print (favourite_dishes)"
   ]
  },
  {
   "cell_type": "code",
   "execution_count": 6,
   "metadata": {},
   "outputs": [
    {
     "name": "stdout",
     "output_type": "stream",
     "text": [
      "the last three items in the list are:\n",
      "\n",
      "tandori chicken\n",
      "achar ghost\n",
      "karahi\n"
     ]
    }
   ],
   "source": [
    "favourite_dishes = [\"biryani\",\"malai boti\",\"nuggets\",\"fish\",\"pizza\",\"fried rice\",\"tandori chicken\",\"achar ghost\",\"karahi\"]\n",
    "print (\"the last three items in the list are:\\n\")\n",
    "for favourite_dishes in favourite_dishes [6:]:\n",
    "    print(favourite_dishes)"
   ]
  },
  {
   "cell_type": "markdown",
   "metadata": {},
   "source": [
    "# Q8:"
   ]
  },
  {
   "cell_type": "markdown",
   "metadata": {},
   "source": [
    "### Start with your program from your last Question8.\n",
    "###### Make a copy of the list of foods, and call it friend_foods.\n",
    "###### Then, do the following:\n",
    "######    Add a new dish to the original list.\n",
    "######    Add a different dish to the list friend_foodss.\n",
    "######    Prove that you have two separate lists. \n",
    "###### Print the message, My favorite pizzas are: and then use a for loop to print the first list. \n",
    "###### Print the message,\n",
    "###### My friend’s favorite foods are:, and then use a for loop to print the second list.\n",
    "    \n",
    "##### NOTE: Make sure each new dish is stored in the appropriate list."
   ]
  },
  {
   "cell_type": "code",
   "execution_count": 11,
   "metadata": {},
   "outputs": [
    {
     "name": "stdout",
     "output_type": "stream",
     "text": [
      "My favorite foods are: [['biryani', 'tikka', 'pizza', 'chaowmein', 'singaporean rice', 'burgers', 'pasta', 'shashlik', 'Malaai Boti']]\n",
      "My friends fav food are: [['biryani', 'tikka', 'pizza', 'chaowmein', 'singaporean rice', 'burgers', 'pasta', 'shashlik', 'Seekh kabaaab']]\n"
     ]
    }
   ],
   "source": [
    "foods = ['biryani', 'tikka','pizza','chaowmein','singaporean rice','burgers','pasta','shashlik']\n",
    "friends_food = foods.copy()\n",
    "#print(friends_food)\n",
    "foods.append('Malaai Boti')\n",
    "friends_food.append('Seekh kabaaab')\n",
    "#print(foods)\n",
    "#print(friends_food)\n",
    "f = []\n",
    "f.append(foods)\n",
    "for i in f:\n",
    "    print(f'My favorite foods are: {f}')\n",
    "fr_f = []\n",
    "fr_f.append(friends_food)\n",
    "for j in fr_f:\n",
    "    print(f'My friends fav food are: {fr_f}')"
   ]
  },
  {
   "cell_type": "markdown",
   "metadata": {},
   "source": [
    "# Q9:"
   ]
  },
  {
   "cell_type": "markdown",
   "metadata": {},
   "source": [
    "Take a user input from console line.Store it in a variable called Alien_color.\n",
    "\n",
    "If the alien’s color is red, print a statement that the player just earned 5 points for shooting the alien.\n",
    "\n",
    "If the alien’s color isn’t green, print a statement that the player just earned 10 points.\n",
    "\n",
    "If the alien's color isn't red or green , print a statment :, Alien is no more....."
   ]
  },
  {
   "cell_type": "code",
   "execution_count": 13,
   "metadata": {},
   "outputs": [
    {
     "name": "stdout",
     "output_type": "stream",
     "text": [
      "enter the color of Allien : pink\n",
      "Alien is no more ....\n"
     ]
    }
   ],
   "source": [
    "alien_color = (input(\"enter the color of Allien : \" ))\n",
    "if  alien_color == \"red\":  \n",
    "    print (\"the player just earned 5 points for shooting the alien\")\n",
    "elif alien_color == \"green\":\n",
    "     print (\"the player just earned 10 points for shooting the alien\")\n",
    "else:\n",
    "               print (\"Alien is no more ....\")\n",
    "               "
   ]
  },
  {
   "cell_type": "markdown",
   "metadata": {},
   "source": [
    "# Q10:"
   ]
  },
  {
   "cell_type": "markdown",
   "metadata": {},
   "source": [
    "Write an if-elif-else chain that determines a person’s\n",
    "stage of life. Set a value for the variable age, and then:\n",
    "    \n",
    "•\t If the person is less than 2 years old, print a message that the person is a baby.\n",
    "\n",
    "•\t If the person is at least 2 years old but less than 4, print a message that the person is a toddler.\n",
    "\n",
    "•\t If the person is at least 4 years old but less than 13, print a message that the person is a kid.\n",
    "\n",
    "•\t If the person is at least 13 years old but less than 20, print a message that the person is a teenager.\n",
    "\n",
    "•\t If the person is at least 20 years old but less than 65, print a message that the person is an adult.\n",
    "\n",
    "•\t If the person is age 65 or older, print a message that the person is an elder."
   ]
  },
  {
   "cell_type": "code",
   "execution_count": 1,
   "metadata": {},
   "outputs": [
    {
     "name": "stdout",
     "output_type": "stream",
     "text": [
      "the person is an adult\n"
     ]
    }
   ],
   "source": [
    "age = 25\n",
    "if age < 2:\n",
    "    print (\"the person is baby\")\n",
    "elif age > 2 and age < 4:\n",
    "    print (\"the person is a toddler\")\n",
    "elif age > 4 and age < 13:\n",
    "    print (\"the person is kid\")\n",
    "elif age > 13 and age < 13:\n",
    "    print (\"the person is a teenager\")\n",
    "elif age > 20 and age < 65:\n",
    "    print(\"the person is an adult\")\n",
    "else:\n",
    "    print (\" the persoon is an elder\")\n",
    "    \n",
    "    "
   ]
  },
  {
   "cell_type": "markdown",
   "metadata": {},
   "source": [
    "# Q11:"
   ]
  },
  {
   "cell_type": "markdown",
   "metadata": {},
   "source": [
    "Do the following to create a program that simulates how websites ensure that everyone has a unique username.\n",
    "\n",
    "•\t Make a list of five or more usernames called current_users.\n",
    "\n",
    "•\t Make another list of five usernames called new_users. \n",
    "Make sure one or two of the new usernames are also in the current_users list.\n",
    "\n",
    "•\t Loop through the new_users list to see if each new username has already been used. \n",
    "If it has, print a message that the person will need to enter a new username. \n",
    "If a username has not been used, print a message saying that the username is available.\n",
    "\n",
    "•\t Make sure your comparison is case insensitive. If 'John' has been used, 'JOHN' should not be accepted."
   ]
  },
  {
   "cell_type": "code",
   "execution_count": 1,
   "metadata": {},
   "outputs": [
    {
     "name": "stdout",
     "output_type": "stream",
     "text": [
      "all right  sumaira  that username is available.\n",
      "sorry sadia that user  name is taken\n",
      "sorry nadia that user  name is taken\n",
      "all right  anum  that username is available.\n",
      "sorry ramashaa that user  name is taken\n"
     ]
    }
   ],
   "source": [
    "current_users = ['sumaira','sadia','nadia','anum','ramashaa']\n",
    "new_users = ['ramashaa', 'sadia','nadia','urooj','hamid']\n",
    "v1 = [x.lower() for x in current_users]\n",
    "v2 = [x.lower()  for x in new_users]\n",
    "for s in v1:\n",
    "    if s in v2:\n",
    "        print('sorry' , s , 'that user  name is taken')\n",
    "    else:\n",
    "        print('all right ', s ,' that username is available.')"
   ]
  },
  {
   "cell_type": "markdown",
   "metadata": {},
   "source": [
    "# Q12:\n",
    "          Use a dictionary to store information about a person you know. Store their first name, last name, age, and the city in which they live. You should have keys such as first_name, last_name, age, and city.Print each piece of information stored in your dictionary"
   ]
  },
  {
   "cell_type": "code",
   "execution_count": 17,
   "metadata": {},
   "outputs": [
    {
     "name": "stdout",
     "output_type": "stream",
     "text": [
      "first name:atif\n",
      "last name:sheikh\n",
      "age:25\n",
      "city:karachi\n"
     ]
    }
   ],
   "source": [
    "person = {\"first name\":\"atif\", \n",
    "          \"last name\":\"sheikh\", \n",
    "          \"age\":\"25\", \n",
    "          \"city\":\"karachi\"}\n",
    "print (\"first name:\" + person[\"first name\"])\n",
    "print (\"last name:\" + person[\"last name\"])\n",
    "print (\"age:\" + person[\"age\"])  \n",
    "print (\"city:\" + person[\"city\"])"
   ]
  },
  {
   "cell_type": "markdown",
   "metadata": {},
   "source": [
    "# Q13:"
   ]
  },
  {
   "cell_type": "markdown",
   "metadata": {},
   "source": [
    "Starts with your last question 12 , loop through the dictionary’s keys and values.\n",
    "When you’re sure that your loop works, add five more Python terms to your\n",
    "dictionary . When you run your program again, these new words and meanings\n",
    "should automatically be included in the output."
   ]
  },
  {
   "cell_type": "code",
   "execution_count": 29,
   "metadata": {},
   "outputs": [
    {
     "name": "stdout",
     "output_type": "stream",
     "text": [
      "first name : atif\n",
      "last name : sheikh\n",
      "age : 25\n",
      "city : karachi\n",
      "def : define\n",
      "pass : to pass\n",
      "if : any condition\n",
      "break : to stop a loop\n",
      "for : for loop\n"
     ]
    }
   ],
   "source": [
    "person[\"def\"]=\"define\"\n",
    "person[\"pass\"] = \"to pass\"\n",
    "person[\"if\"] = \"any condition\"\n",
    "person[\"break\"] = \"to stop a loop\"\n",
    "person[\"for\"] =\"for loop\"\n",
    "\n",
    "for key ,value in person.items():\n",
    "    print(key +\" : \" + value)\n"
   ]
  },
  {
   "cell_type": "markdown",
   "metadata": {},
   "source": [
    "# Q14:"
   ]
  },
  {
   "cell_type": "markdown",
   "metadata": {},
   "source": [
    "Make a dictionary containing three major rivers and the country\n",
    "each river runs through. One key-value pair might be 'nile': 'egypt'.\n",
    "    \n",
    "    \n",
    "•\t Use a loop to print a sentence about each river, such as The Nile runs\n",
    "through Egypt.\n",
    "\n",
    "NOTE: use upper case through keys and values."
   ]
  },
  {
   "cell_type": "code",
   "execution_count": 27,
   "metadata": {},
   "outputs": [
    {
     "name": "stdout",
     "output_type": "stream",
     "text": [
      "The INDIA runs through YAMUNA.\n",
      "The CANADA runs through ST.LAWRENCE.\n",
      "The GERMANY runs through HAVEL.\n"
     ]
    }
   ],
   "source": [
    "river = {\"india\" : \"yamuna\" ,\n",
    "          \"canada\" : \"st.lawrence\" ,\n",
    "          \"germany\" : \"havel\"}\n",
    "for river, country in river.items():\n",
    "    print (\"The \" + river.upper() + \" runs through \" + country.upper() + \".\")"
   ]
  },
  {
   "cell_type": "markdown",
   "metadata": {},
   "source": [
    "# Q15:"
   ]
  },
  {
   "cell_type": "markdown",
   "metadata": {},
   "source": [
    "Make several dictionaries, where the name of each dictionary is the\n",
    "name of a pet. In each dictionary, include the kind of animal and the owner’s\n",
    "name. Store these dictionaries in a list called pets. Next, loop through your list\n",
    "and as you do print everything you know about each pet."
   ]
  },
  {
   "cell_type": "code",
   "execution_count": 28,
   "metadata": {},
   "outputs": [
    {
     "name": "stdout",
     "output_type": "stream",
     "text": [
      "Kinds : mammals\n",
      "owner's_name : Jack\n",
      "\n",
      "Kinds : mammals\n",
      "owner's_name : krish\n",
      "\n",
      "Kinds : bird\n",
      "owner's_name : Timmy\n",
      "\n"
     ]
    }
   ],
   "source": [
    "cat = {\"Kinds\":\"mammals\",\n",
    "      \"owner's_name\":\"Jack\"}\n",
    "\n",
    "whale = {\"Kinds\":\"mammals\",\n",
    "        \"owner's_name\":\"krish\"}\n",
    "\n",
    "australian_parrot = {\"Kinds\":\"bird\",\n",
    "                   \"owner's_name\":\"Timmy\"}\n",
    "\n",
    "pets =[cat,whale,australian_parrot]\n",
    "for pet in pets:\n",
    "    for key, value in pet.items():\n",
    "        print(key + \" : \" + value)\n",
    "    print()"
   ]
  }
 ],
 "metadata": {
  "kernelspec": {
   "display_name": "Python 3",
   "language": "python",
   "name": "python3"
  },
  "language_info": {
   "codemirror_mode": {
    "name": "ipython",
    "version": 3
   },
   "file_extension": ".py",
   "mimetype": "text/x-python",
   "name": "python",
   "nbconvert_exporter": "python",
   "pygments_lexer": "ipython3",
   "version": "3.7.3"
  }
 },
 "nbformat": 4,
 "nbformat_minor": 2
}
