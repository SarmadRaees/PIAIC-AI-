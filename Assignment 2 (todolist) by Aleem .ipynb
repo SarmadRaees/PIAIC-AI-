{
 "cells": [
  {
   "cell_type": "markdown",
   "metadata": {},
   "source": [
    "# Assignment 2 (To do List)"
   ]
  },
  {
   "cell_type": "code",
   "execution_count": 2,
   "metadata": {},
   "outputs": [],
   "source": [
    "todolist=['awake','prayer','office','tv','sleep']\n",
    "donelist=[]"
   ]
  },
  {
   "cell_type": "code",
   "execution_count": 5,
   "metadata": {},
   "outputs": [
    {
     "name": "stdout",
     "output_type": "stream",
     "text": [
      "Enter any daily task tv\n",
      "Your remaining todolist is  ['prayer', 'office', 'sleep']\n",
      "Your updated donelist is  ['awake', 'tv']\n",
      "Remaining number list=  4\n"
     ]
    }
   ],
   "source": [
    "task=input('Enter any daily task ')\n",
    "a=len(todolist)\n",
    "if a>=1 and task in todolist:\n",
    "  \n",
    "    index_pointer=todolist.index(task)\n",
    "    todolist.pop(index_pointer)  \n",
    "    donelist.append(task)\n",
    "    print('Your remaining todolist is ',todolist)\n",
    "    print('Your updated donelist is ',donelist)\n",
    "    print('Remaining number list= ',a)\n",
    "  \n",
    "else:\n",
    "  print(\"todolist is empty\")\n",
    "    \n",
    "    "
   ]
  },
  {
   "cell_type": "code",
   "execution_count": null,
   "metadata": {},
   "outputs": [],
   "source": []
  },
  {
   "cell_type": "code",
   "execution_count": null,
   "metadata": {},
   "outputs": [],
   "source": []
  }
 ],
 "metadata": {
  "kernelspec": {
   "display_name": "Python 3",
   "language": "python",
   "name": "python3"
  },
  "language_info": {
   "codemirror_mode": {
    "name": "ipython",
    "version": 3
   },
   "file_extension": ".py",
   "mimetype": "text/x-python",
   "name": "python",
   "nbconvert_exporter": "python",
   "pygments_lexer": "ipython3",
   "version": "3.7.3"
  }
 },
 "nbformat": 4,
 "nbformat_minor": 2
}
